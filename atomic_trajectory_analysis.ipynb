{
 "cells": [
  {
   "cell_type": "markdown",
   "id": "a8ff98a7-3084-4ca5-ae46-5c588dcc3039",
   "metadata": {},
   "source": [
    "## Atomic Trajectory Analysis"
   ]
  },
  {
   "cell_type": "markdown",
   "id": "2ac234da",
   "metadata": {},
   "source": [
    "### Step 1: Importing Libraries"
   ]
  },
  {
   "cell_type": "code",
   "execution_count": null,
   "id": "377c2678-e825-4e7a-a169-f0d170bad448",
   "metadata": {},
   "outputs": [],
   "source": [
    "import MDAnalysis as mda\n",
    "from MDAnalysis.tests.datafiles import PSF, DCD, GRO, XTC\n",
    "from matplotlib import pyplot as plt\n",
    "from MDAnalysis.analysis.distances import distance_array\n",
    "import numpy as np\n",
    "import pandas as pd\n",
    "from MDAnalysis.analysis import rms\n",
    "from MDAnalysis.analysis.rms import RMSF\n",
    "from MDAnalysis.analysis.align import alignto\n",
    "import MDAnalysis.transformations as trans"
   ]
  },
  {
   "cell_type": "markdown",
   "id": "4432b51e",
   "metadata": {},
   "source": [
    "### Step 2: Loading Trajectory"
   ]
  },
  {
   "cell_type": "code",
   "execution_count": null,
   "id": "aadf8f50",
   "metadata": {},
   "outputs": [],
   "source": [
    "u = mda.Universe(\"box.pdb\", \"aligned_centered_traj.xtc\")"
   ]
  },
  {
   "cell_type": "code",
   "execution_count": null,
   "id": "5bc101cb",
   "metadata": {},
   "outputs": [],
   "source": [
    "last_time = u.trajectory[-1].time  \n",
    "print(f\"The simulation ran until {last_time} ps.\")"
   ]
  },
  {
   "cell_type": "markdown",
   "id": "1f3337fa",
   "metadata": {},
   "source": [
    "### Step 3: Select Protein Atoms"
   ]
  },
  {
   "cell_type": "code",
   "execution_count": 3,
   "id": "eb77e546-1534-488d-afda-20983aececac",
   "metadata": {},
   "outputs": [],
   "source": [
    "protein = u.select_atoms('protein') "
   ]
  },
  {
   "cell_type": "code",
   "execution_count": null,
   "id": "5d805c2a",
   "metadata": {},
   "outputs": [],
   "source": [
    "print(u)\n",
    "print(len(u.trajectory))"
   ]
  },
  {
   "cell_type": "code",
   "execution_count": null,
   "id": "58d860ce",
   "metadata": {},
   "outputs": [],
   "source": [
    "print(u.atoms.segids)"
   ]
  },
  {
   "cell_type": "code",
   "execution_count": null,
   "id": "80ca2763",
   "metadata": {},
   "outputs": [],
   "source": [
    "print(u.residues) \n",
    "print(u.residues.resnames)"
   ]
  },
  {
   "cell_type": "markdown",
   "id": "5f18ecc6",
   "metadata": {},
   "source": [
    "### Step 4: Select N-terminal and C-terminal Atoms"
   ]
  },
  {
   "cell_type": "code",
   "execution_count": null,
   "id": "8d961c21",
   "metadata": {},
   "outputs": [],
   "source": [
    "nterm = u.select_atoms('segid A and name N')[0]\n",
    "cterm = u.select_atoms('segid A and name C')[-1]"
   ]
  },
  {
   "cell_type": "markdown",
   "id": "f62a8cb2-74a7-4ce2-b040-f4b5ef704109",
   "metadata": {},
   "source": [
    "### Step 5: Analyze End-to-End Distance and Radius of Gyration Over Time"
   ]
  },
  {
   "cell_type": "code",
   "execution_count": null,
   "id": "f2d481cf",
   "metadata": {},
   "outputs": [],
   "source": [
    "# Initialize lists to store analysis results\n",
    "frames = []\n",
    "distances = []\n",
    "rgyr_values = []\n",
    "\n",
    "# Loop through each frame of the trajectory\n",
    "for ts in u.trajectory:\n",
    "    # Compute the end-to-end vector between C-terminal and N-terminal\n",
    "    r = cterm.position - nterm.position\n",
    "    d = np.linalg.norm(r)  # Calculate the magnitude of the vector (distance)\n",
    "\n",
    "    # Compute the radius of gyration of the protein\n",
    "    rgyr = protein.radius_of_gyration()\n",
    "\n",
    "    # Store results\n",
    "    frames.append(ts.frame)\n",
    "    distances.append(d)\n",
    "    rgyr_values.append(rgyr)\n",
    "\n",
    "# Get timestep in picoseconds\n",
    "dt_ps = u.trajectory.dt  \n",
    "# Convert frame numbers to time in nanoseconds\n",
    "times_ns = [frame * dt_ps / 1000 for frame in frames]  \n",
    "\n",
    "# Plot End-to-End Distance \n",
    "plt.figure(figsize=(10, 5))\n",
    "plt.plot(times_ns, distances, label=\"End-to-End Distance (Å)\", color=\"b\")\n",
    "plt.xlabel(\"Time (ns)\")\n",
    "plt.ylabel(\"Distance (Å)\")\n",
    "plt.title(\"End-to-End Distance Over Time\")\n",
    "plt.legend()\n",
    "plt.grid()\n",
    "\n",
    "# Plot Radius of Gyration\n",
    "plt.figure(figsize=(10, 5))\n",
    "plt.plot(times_ns, rgyr_values, label=\"Radius of Gyration (Å)\", color=\"r\")\n",
    "plt.xlabel(\"Time (ns)\")\n",
    "plt.ylabel(\"Radius of Gyration (Å)\")\n",
    "plt.title(\"Radius of Gyration Over Time\")\n",
    "plt.legend()\n",
    "plt.grid()\n",
    "plt.show()\n"
   ]
  },
  {
   "cell_type": "markdown",
   "id": "542b4ed0-dfcd-44b3-99dc-6d128eee26de",
   "metadata": {},
   "source": [
    "### Step 6: RMSD Analysis — First vs Last and Time Evolution"
   ]
  },
  {
   "cell_type": "code",
   "execution_count": null,
   "id": "8aeeb973",
   "metadata": {},
   "outputs": [],
   "source": [
    "# Set the trajectory to the first frame to get reference coordinates\n",
    "u.trajectory[0]\n",
    "ref_coords = protein.positions.copy()  # Copy protein atom positions as reference\n",
    "\n",
    "# Initialize lists to store RMSD values and corresponding times\n",
    "rmsd_values = []\n",
    "times = []\n",
    "\n",
    "# Loop through all frames in the trajectory\n",
    "for ts in u.trajectory:\n",
    "    # Calculate RMSD between current frame and reference frame, with alignment (superposition)\n",
    "    rmsd_val = rms.rmsd(protein.positions, ref_coords, superposition=True)\n",
    "    rmsd_values.append(rmsd_val)           # Store RMSD value\n",
    "    times.append(ts.time / 1000)           \n",
    "\n",
    "# Go to the last frame of the trajectory\n",
    "u.trajectory[-1]\n",
    "last_coords = protein.positions.copy()    # Copy protein positions at last frame\n",
    "\n",
    "# Calculate RMSD between last frame and reference (first) frame, with alignment\n",
    "rmsd_first_last = rms.rmsd(last_coords, ref_coords, superposition=True)\n",
    "print(f\"RMSD between first and last frame: {rmsd_first_last:.3f} Å\")  # Print result\n",
    "\n",
    "# Plot RMSD over time \n",
    "plt.figure(figsize=(10, 5))\n",
    "plt.plot(times, rmsd_values, color='blue', label=\"RMSD to First Frame\")\n",
    "plt.xlabel(\"Time (ns)\")     \n",
    "plt.ylabel(\"RMSD (Å)\")      \n",
    "plt.title(\"Protein RMSD Over Time\")\n",
    "plt.legend()\n",
    "plt.grid()\n",
    "plt.show()\n"
   ]
  },
  {
   "cell_type": "markdown",
   "id": "8f2024b4-f133-4dde-8825-572fb671b31b",
   "metadata": {},
   "source": [
    "### Step 7: RMSF Analysis"
   ]
  },
  {
   "cell_type": "code",
   "execution_count": null,
   "id": "02ead845",
   "metadata": {},
   "outputs": [],
   "source": [
    "# Calculate RMSF for protein atoms over the trajectory\n",
    "rmsf = RMSF(protein.select_atoms(\"protein\")).run()\n",
    "\n",
    "# Plot RMSF values against residue index\n",
    "plt.plot(rmsf.rmsf, color='blue', label=\"RMSF\")\n",
    "plt.title(\"Root Mean Square Fluctuation (RMSF) of Protein Residues\")\n",
    "plt.xlabel(\"Residue index\")\n",
    "plt.ylabel(\"RMSF (Å)\")\n",
    "plt.legend()\n",
    "plt.grid(True)\n",
    "plt.show()"
   ]
  },
  {
   "cell_type": "code",
   "execution_count": null,
   "id": "ff02b63b-0df9-4550-8c40-5e83dc4b07d9",
   "metadata": {},
   "outputs": [],
   "source": []
  }
 ],
 "metadata": {
  "kernelspec": {
   "display_name": "Your Conda Environment",
   "language": "python",
   "name": "cadd-course"
  },
  "language_info": {
   "codemirror_mode": {
    "name": "ipython",
    "version": 3
   },
   "file_extension": ".py",
   "mimetype": "text/x-python",
   "name": "python",
   "nbconvert_exporter": "python",
   "pygments_lexer": "ipython3",
   "version": "3.11.8"
  }
 },
 "nbformat": 4,
 "nbformat_minor": 5
}
